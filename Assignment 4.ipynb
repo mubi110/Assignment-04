{
 "cells": [
  {
   "cell_type": "markdown",
   "id": "86b58e25-795a-42e7-a906-398c66e24371",
   "metadata": {},
   "source": [
    "## Question No. 4-1"
   ]
  },
  {
   "cell_type": "code",
   "execution_count": 28,
   "id": "218c6a95-4bfc-4fd6-8b65-79ce658b5c4d",
   "metadata": {},
   "outputs": [
    {
     "data": {
      "text/plain": [
       "['Kamran', 'Danial', 'Farrukh']"
      ]
     },
     "execution_count": 28,
     "metadata": {},
     "output_type": "execute_result"
    }
   ],
   "source": [
    "guest = [\"Kamran\", \"Danial\", \"Farrukh\"]"
   ]
  },
  {
   "cell_type": "code",
   "execution_count": 30,
   "id": "98be0aa0-5e3f-4090-9c4f-093bd6aded37",
   "metadata": {},
   "outputs": [
    {
     "data": {
      "text/plain": [
       "'You are inviting for the dinner at our place'"
      ]
     },
     "execution_count": 30,
     "metadata": {},
     "output_type": "execute_result"
    }
   ],
   "source": [
    "message = ('You are inviting for the dinner at our place')\n",
    "message"
   ]
  },
  {
   "cell_type": "code",
   "execution_count": 32,
   "id": "8f80b675-4a00-4ae2-9973-057673341ec3",
   "metadata": {},
   "outputs": [
    {
     "name": "stdout",
     "output_type": "stream",
     "text": [
      "Kamran You are inviting for the dinner at our place\n",
      "Danial You are inviting for the dinner at our place\n",
      "Farrukh You are inviting for the dinner at our place\n"
     ]
    }
   ],
   "source": [
    "invitation = guest[0]\n",
    "print(invitation, message)\n",
    "\n",
    "invitation = guest[1]\n",
    "print(invitation, message)\n",
    "\n",
    "invitation = guest[2]\n",
    "print(invitation, message)"
   ]
  },
  {
   "cell_type": "markdown",
   "id": "137b22ca-c8bd-40f5-8d9f-2ced81215116",
   "metadata": {},
   "source": [
    "## Question No 4-2"
   ]
  },
  {
   "cell_type": "code",
   "execution_count": 35,
   "id": "99bf4b4a-54e6-41d7-9c37-b7caad74fe6e",
   "metadata": {},
   "outputs": [
    {
     "data": {
      "text/plain": [
       "['Kamran', 'Danial', 'Farrukh']"
      ]
     },
     "execution_count": 35,
     "metadata": {},
     "output_type": "execute_result"
    }
   ],
   "source": [
    "guest"
   ]
  },
  {
   "cell_type": "code",
   "execution_count": 37,
   "id": "e1e0b396-f7f4-4c30-ae45-508b00d0ed8e",
   "metadata": {},
   "outputs": [
    {
     "data": {
      "text/plain": [
       "'Danial'"
      ]
     },
     "execution_count": 37,
     "metadata": {},
     "output_type": "execute_result"
    }
   ],
   "source": [
    "guest.pop(1)"
   ]
  },
  {
   "cell_type": "code",
   "execution_count": 39,
   "id": "5395a781-6a1e-4f3f-9dd1-b2189e4ab2f5",
   "metadata": {},
   "outputs": [
    {
     "data": {
      "text/plain": [
       "['Kamran', 'Farrukh']"
      ]
     },
     "execution_count": 39,
     "metadata": {},
     "output_type": "execute_result"
    }
   ],
   "source": [
    "guest"
   ]
  },
  {
   "cell_type": "code",
   "execution_count": 41,
   "id": "89a71484-fe66-47c9-a48b-2e26a55196d3",
   "metadata": {},
   "outputs": [
    {
     "data": {
      "text/plain": [
       "['Kamran', 'Farrukh', 'Anees']"
      ]
     },
     "execution_count": 41,
     "metadata": {},
     "output_type": "execute_result"
    }
   ],
   "source": [
    "guest.append(\"Anees\")\n",
    "guest"
   ]
  },
  {
   "cell_type": "code",
   "execution_count": 43,
   "id": "9512ff2c-712f-41f1-a4b1-74927372790b",
   "metadata": {},
   "outputs": [
    {
     "data": {
      "text/plain": [
       "'Two guests are not coming so we have space for two guests'"
      ]
     },
     "execution_count": 43,
     "metadata": {},
     "output_type": "execute_result"
    }
   ],
   "source": [
    "new_message = (\"Two guests are not coming so we have space for two guests\" )\n",
    "new_message"
   ]
  },
  {
   "cell_type": "code",
   "execution_count": 45,
   "id": "c8390631-1d09-4070-8a16-cf2ca1605bbc",
   "metadata": {},
   "outputs": [
    {
     "data": {
      "text/plain": [
       "'You are inviting for the dinner at our place'"
      ]
     },
     "execution_count": 45,
     "metadata": {},
     "output_type": "execute_result"
    }
   ],
   "source": [
    "update_message = ('You are inviting for the dinner at our place')\n",
    "update_message"
   ]
  },
  {
   "cell_type": "code",
   "execution_count": 47,
   "id": "6e132db0-c5d5-44f3-b93b-6adcf968a7ea",
   "metadata": {},
   "outputs": [
    {
     "name": "stdout",
     "output_type": "stream",
     "text": [
      "Kamran You are inviting for the dinner at our place\n",
      "Farrukh You are inviting for the dinner at our place\n",
      "Anees You are inviting for the dinner at our place\n"
     ]
    }
   ],
   "source": [
    "invitation = guest[0]\n",
    "print(invitation, update_message)\n",
    "\n",
    "invitation = guest[1]\n",
    "print(invitation, update_message)\n",
    "\n",
    "invitation = guest[2]\n",
    "print(invitation, update_message)"
   ]
  },
  {
   "cell_type": "code",
   "execution_count": 95,
   "id": "6e16ca24-530e-438d-bca7-1d532f0b83ea",
   "metadata": {},
   "outputs": [
    {
     "data": {
      "text/plain": [
       "['Saad', 'Hamza', 'Danial']"
      ]
     },
     "execution_count": 95,
     "metadata": {},
     "output_type": "execute_result"
    }
   ],
   "source": [
    "more_guest = ['Saad', 'Hamza', 'Danial']\n",
    "more_guest"
   ]
  },
  {
   "cell_type": "code",
   "execution_count": 51,
   "id": "db493412-fcfb-4e4a-9f8d-044f2e4cc9d5",
   "metadata": {},
   "outputs": [
    {
     "data": {
      "text/plain": [
       "['Kamran', 'Farrukh', 'Anees', ['Saad', 'Hamza', 'Danial']]"
      ]
     },
     "execution_count": 51,
     "metadata": {},
     "output_type": "execute_result"
    }
   ],
   "source": [
    "guest.append(more_guest)\n",
    "guest"
   ]
  },
  {
   "cell_type": "code",
   "execution_count": 97,
   "id": "5e67be42-c662-445c-b267-918b871ad464",
   "metadata": {},
   "outputs": [
    {
     "data": {
      "text/plain": [
       "['Farhan',\n",
       " 'Kamran',\n",
       " 'Farrukh',\n",
       " 'Shehbaz',\n",
       " 'Anees',\n",
       " ['Saad', 'Hamza', 'Danial'],\n",
       " 'Ali']"
      ]
     },
     "execution_count": 97,
     "metadata": {},
     "output_type": "execute_result"
    }
   ],
   "source": [
    "guest"
   ]
  },
  {
   "cell_type": "code",
   "execution_count": 99,
   "id": "47cd57a5-c84e-4cd6-9116-2425e5499491",
   "metadata": {},
   "outputs": [
    {
     "data": {
      "text/plain": [
       "['Farhan',\n",
       " 'Kamran',\n",
       " 'Farrukh',\n",
       " 'Shehbaz',\n",
       " 'Anees',\n",
       " ['Saad', 'Hamza', 'Danial'],\n",
       " 'Ali']"
      ]
     },
     "execution_count": 99,
     "metadata": {},
     "output_type": "execute_result"
    }
   ],
   "source": [
    "guest"
   ]
  },
  {
   "cell_type": "markdown",
   "id": "2e39a399-b710-4fab-8711-864017226813",
   "metadata": {},
   "source": [
    "## Question No. 4-3"
   ]
  },
  {
   "cell_type": "code",
   "execution_count": 101,
   "id": "cdf39e3e-eb4c-46fa-b0eb-a94b41914de5",
   "metadata": {},
   "outputs": [
    {
     "data": {
      "text/plain": [
       "['Farhan',\n",
       " 'Farhan',\n",
       " 'Kamran',\n",
       " 'Farrukh',\n",
       " 'Shehbaz',\n",
       " 'Anees',\n",
       " ['Saad', 'Hamza', 'Danial'],\n",
       " 'Ali']"
      ]
     },
     "execution_count": 101,
     "metadata": {},
     "output_type": "execute_result"
    }
   ],
   "source": [
    "guest.insert(0,\"Farhan\")\n",
    "guest"
   ]
  },
  {
   "cell_type": "code",
   "execution_count": 127,
   "id": "248df97c-a71f-46a0-b4e1-2a2cb3fca014",
   "metadata": {},
   "outputs": [
    {
     "data": {
      "text/plain": [
       "'Shehbaz'"
      ]
     },
     "execution_count": 127,
     "metadata": {},
     "output_type": "execute_result"
    }
   ],
   "source": [
    "guest.insert(3,\"Shehbaz\")\n",
    "guest"
   ]
  },
  {
   "cell_type": "code",
   "execution_count": 131,
   "id": "deaf928c-732e-470e-9837-152ea44eafb1",
   "metadata": {},
   "outputs": [
    {
     "data": {
      "text/plain": [
       "['Farhan',\n",
       " 'Kamran',\n",
       " 'Farrukh',\n",
       " 'Shehbaz',\n",
       " 'Anees',\n",
       " ['Saad', 'Hamza', 'Danial'],\n",
       " 'Ali']"
      ]
     },
     "execution_count": 131,
     "metadata": {},
     "output_type": "execute_result"
    }
   ],
   "source": [
    "guest"
   ]
  },
  {
   "cell_type": "code",
   "execution_count": 133,
   "id": "7cdcc757-3e28-42cf-9eb2-fea8be6d801c",
   "metadata": {},
   "outputs": [],
   "source": [
    "guest.append(\"Ali\")"
   ]
  },
  {
   "cell_type": "code",
   "execution_count": 139,
   "id": "64a999fe-9315-4326-8cf9-80c7603a3f7c",
   "metadata": {},
   "outputs": [
    {
     "data": {
      "text/plain": [
       "['Farhan',\n",
       " 'Kamran',\n",
       " 'Farrukh',\n",
       " 'Shehbaz',\n",
       " 'Anees',\n",
       " ['Saad', 'Hamza', 'Danial'],\n",
       " 'Ali']"
      ]
     },
     "execution_count": 139,
     "metadata": {},
     "output_type": "execute_result"
    }
   ],
   "source": [
    "guest"
   ]
  },
  {
   "cell_type": "code",
   "execution_count": 141,
   "id": "b7391a57-cdbd-41d6-9f89-ca8348088a04",
   "metadata": {},
   "outputs": [
    {
     "data": {
      "text/plain": [
       "'You are inviting for the dinner party'"
      ]
     },
     "execution_count": 141,
     "metadata": {},
     "output_type": "execute_result"
    }
   ],
   "source": [
    "new_message1 = (\"You are inviting for the dinner party\")\n",
    "new_message1"
   ]
  },
  {
   "cell_type": "code",
   "execution_count": 143,
   "id": "a70a18b6-2cc2-49e0-84e0-0b2085ce3776",
   "metadata": {},
   "outputs": [
    {
     "name": "stdout",
     "output_type": "stream",
     "text": [
      "Farhan You are inviting for the dinner party\n",
      "Kamran You are inviting for the dinner party\n",
      "Farrukh You are inviting for the dinner party\n",
      "Shehbaz You are inviting for the dinner party\n",
      "Anees You are inviting for the dinner party\n",
      "Hamza You are inviting for the dinner party\n",
      "Danial You are inviting for the dinner party\n",
      "Ali You are inviting for the dinner party\n"
     ]
    }
   ],
   "source": [
    "new_invitation = guest[0]\n",
    "print(new_invitation, new_message1)\n",
    "\n",
    "new_invitation = guest[1]\n",
    "print(new_invitation, new_message1)\n",
    "\n",
    "new_invitation = guest[2]\n",
    "print(new_invitation, new_message1)\n",
    "\n",
    "new_invitation = guest[3]\n",
    "print(new_invitation, new_message1)\n",
    "\n",
    "new_invitation = guest[4]\n",
    "print(new_invitation, new_message1)\n",
    "\n",
    "new_invitation = guest[5][1]\n",
    "print(new_invitation, new_message1)\n",
    "\n",
    "new_invitation = guest[5][2]\n",
    "print(new_invitation, new_message1)\n",
    "\n",
    "new_invitation = guest[6]\n",
    "print(new_invitation, new_message1)"
   ]
  },
  {
   "cell_type": "markdown",
   "id": "5e4138d3-3757-44bc-887f-5e91c9e2102c",
   "metadata": {},
   "source": [
    "## Question No. 4-4"
   ]
  },
  {
   "cell_type": "code",
   "execution_count": 148,
   "id": "46f0ab4c-0baf-4960-b71e-73d0c0da65b6",
   "metadata": {},
   "outputs": [
    {
     "data": {
      "text/plain": [
       "'Sorry, We are only invite two people for dinner '"
      ]
     },
     "execution_count": 148,
     "metadata": {},
     "output_type": "execute_result"
    }
   ],
   "source": [
    "new_message2 = (\"Sorry, We are only invite two people for dinner \")\n",
    "new_message2"
   ]
  },
  {
   "cell_type": "code",
   "execution_count": 168,
   "id": "e71fb847-3922-4779-a64b-6f809ba8838f",
   "metadata": {},
   "outputs": [],
   "source": [
    "guest.append(\"Shan\")"
   ]
  },
  {
   "cell_type": "code",
   "execution_count": 174,
   "id": "2c841445-aca1-46af-b787-aafa1b280d85",
   "metadata": {},
   "outputs": [
    {
     "data": {
      "text/plain": [
       "['Farhan', 'Kamran']"
      ]
     },
     "execution_count": 174,
     "metadata": {},
     "output_type": "execute_result"
    }
   ],
   "source": [
    "guest.pop(2)\n",
    "guest"
   ]
  },
  {
   "cell_type": "code",
   "execution_count": 176,
   "id": "82427437-45e2-4e23-bc1f-81645006a50d",
   "metadata": {},
   "outputs": [
    {
     "data": {
      "text/plain": [
       "'You both are still invited '"
      ]
     },
     "execution_count": 176,
     "metadata": {},
     "output_type": "execute_result"
    }
   ],
   "source": [
    "new_message3 = (\"You both are still invited \")\n",
    "new_message3"
   ]
  },
  {
   "cell_type": "code",
   "execution_count": 178,
   "id": "bb4167d7-cf85-4bf1-ada9-b1a93a7b2362",
   "metadata": {},
   "outputs": [
    {
     "name": "stdout",
     "output_type": "stream",
     "text": [
      "Farhan You both are still invited \n",
      "Kamran You both are still invited \n"
     ]
    }
   ],
   "source": [
    "new_invitation1 = guest[0]\n",
    "print(new_invitation1, new_message3)\n",
    "\n",
    "new_invitation1 = guest[1]\n",
    "print(new_invitation1, new_message3)"
   ]
  },
  {
   "cell_type": "code",
   "execution_count": 180,
   "id": "3c3cb3bf-7777-4e41-a4b3-c5f168f0ae27",
   "metadata": {},
   "outputs": [
    {
     "data": {
      "text/plain": [
       "[]"
      ]
     },
     "execution_count": 180,
     "metadata": {},
     "output_type": "execute_result"
    }
   ],
   "source": [
    "del guest[:]\n",
    "guest"
   ]
  },
  {
   "cell_type": "markdown",
   "id": "442e2e5c-67c7-4a3d-9a13-188fd9f02dc3",
   "metadata": {},
   "source": [
    "## Question No. 4-5"
   ]
  },
  {
   "cell_type": "code",
   "execution_count": 185,
   "id": "7172c7d6-838e-4ec9-8079-d3f1004572fb",
   "metadata": {},
   "outputs": [
    {
     "data": {
      "text/plain": [
       "['Apple', 'Banana', 'Cherry', 'Date', 'Elderberry', 'Fig', 'Grape']"
      ]
     },
     "execution_count": 185,
     "metadata": {},
     "output_type": "execute_result"
    }
   ],
   "source": [
    "fruits = ['Apple', 'Banana', 'Cherry', 'Date', 'Elderberry', 'Fig', 'Grape']\n",
    "fruits"
   ]
  },
  {
   "cell_type": "code",
   "execution_count": 203,
   "id": "d3351202-43bd-4076-9e75-22de79c7e33e",
   "metadata": {},
   "outputs": [
    {
     "data": {
      "text/plain": [
       "['Elderberry', 'Fig']"
      ]
     },
     "execution_count": 203,
     "metadata": {},
     "output_type": "execute_result"
    }
   ],
   "source": [
    "fruits[4:6]"
   ]
  },
  {
   "cell_type": "code",
   "execution_count": 205,
   "id": "6bd59348-4862-40b5-8ac7-8aec3dca593e",
   "metadata": {},
   "outputs": [
    {
     "data": {
      "text/plain": [
       "'Elderberry'"
      ]
     },
     "execution_count": 205,
     "metadata": {},
     "output_type": "execute_result"
    }
   ],
   "source": [
    "fruits[-3]"
   ]
  },
  {
   "cell_type": "code",
   "execution_count": 207,
   "id": "47204e17-5ee0-410c-a99f-584b44b580d0",
   "metadata": {},
   "outputs": [],
   "source": [
    "fruits.reverse()"
   ]
  },
  {
   "cell_type": "code",
   "execution_count": 209,
   "id": "a0334bb2-e17e-4d7b-ba89-62fb8712c1b7",
   "metadata": {},
   "outputs": [
    {
     "data": {
      "text/plain": [
       "['Grape', 'Fig', 'Elderberry', 'Date', 'Cherry', 'Banana', 'Apple']"
      ]
     },
     "execution_count": 209,
     "metadata": {},
     "output_type": "execute_result"
    }
   ],
   "source": [
    "fruits"
   ]
  },
  {
   "cell_type": "code",
   "execution_count": 217,
   "id": "5e1a1f79-59a2-47df-8b01-ca42be810156",
   "metadata": {},
   "outputs": [
    {
     "data": {
      "text/plain": [
       "5"
      ]
     },
     "execution_count": 217,
     "metadata": {},
     "output_type": "execute_result"
    }
   ],
   "source": [
    "fruits.index('Banana')"
   ]
  },
  {
   "cell_type": "code",
   "execution_count": null,
   "id": "fdc54532-10c1-469e-b326-e972b56ae99f",
   "metadata": {},
   "outputs": [],
   "source": []
  }
 ],
 "metadata": {
  "kernelspec": {
   "display_name": "Python 3 (ipykernel)",
   "language": "python",
   "name": "python3"
  },
  "language_info": {
   "codemirror_mode": {
    "name": "ipython",
    "version": 3
   },
   "file_extension": ".py",
   "mimetype": "text/x-python",
   "name": "python",
   "nbconvert_exporter": "python",
   "pygments_lexer": "ipython3",
   "version": "3.12.4"
  }
 },
 "nbformat": 4,
 "nbformat_minor": 5
}
